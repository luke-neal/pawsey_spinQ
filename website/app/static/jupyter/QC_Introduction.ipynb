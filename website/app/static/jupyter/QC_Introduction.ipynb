{
 "cells": [
  {
   "attachments": {},
   "cell_type": "markdown",
   "metadata": {},
   "source": [
    "# Introduction to Quantum Computing\n",
    "\n",
    "This notebook gives a concise introduction to some of the fundamental principles of quantum computing.\n",
    "\n",
    "## 1. The Qubit\n",
    "\n",
    "For those that have an understanding of how a classical computer works, you may be familiar with the 'bit'. The bit is the fundamental unit of information in classical computing, and takes on a value of either 0 or 1. Every operation performed on a classical computer can be thought of as a series of operations (or 'logic gates') performed using bits.\n",
    "\n",
    "Similarly, quantum computing has the 'qubit'. The qubit can be physically realised as any 2-level quantum system. It is the fundamental unit of information in quantum computing, and when it is measured it will also take on a value of either 0 or 1, just like the bit. What is unique about the qubit, however, is that until it is measured it can be in a state that is a superposition of both 0 and 1.\n",
    "\n",
    "This superposition can be thought of as the linear combination of its two orthonormal basis states: |0> and |1>. These are called \"kets\" (from Bra-ket notation), where |0> represents the vector [1 0] and |1> is the vector [0 1]. Together, these states form the 'computational basis'. By combining the two states in different linear combinations, you can represent any possible state of the qubit. The qubit state is often thought of as being represented by a 'state vector':\n",
    "\n",
    "\n",
    "\n",
    "\n",
    "\n",
    "### 1.1. Bloch Sphere\n",
    "\n",
    "\n",
    "\n",
    "## 2. Quantum Logic Gates\n",
    "\n",
    "As previously mentioned, in classical computing we can think of every operation as being a series of logic gates that operate in sequence.\n",
    "\n"
   ]
  },
  {
   "cell_type": "code",
   "execution_count": null,
   "metadata": {},
   "outputs": [],
   "source": []
  }
 ],
 "metadata": {
  "kernelspec": {
   "display_name": "Python 3",
   "language": "python",
   "name": "python3"
  },
  "language_info": {
   "name": "python",
   "version": "3.10.6 (main, Nov 14 2022, 16:10:14) [GCC 11.3.0]"
  },
  "orig_nbformat": 4,
  "vscode": {
   "interpreter": {
    "hash": "916dbcbb3f70747c44a77c7bcd40155683ae19c65e1c03b4aa3499c5328201f1"
   }
  }
 },
 "nbformat": 4,
 "nbformat_minor": 2
}
