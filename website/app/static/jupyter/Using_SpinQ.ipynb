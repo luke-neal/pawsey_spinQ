{
 "cells": [
  {
   "attachments": {},
   "cell_type": "markdown",
   "metadata": {},
   "source": [
    "# Using the SpinQ Quantum Computers\n",
    "\n",
    "This notebook provides an introduction to the SpinQ Gemini & Triangulum quantum computers, along with how they can be used to run quantum circuits. It is intended for those who have an understanding of how quantum logic gates work, and would like to create some basic circuits to run on a quantum computer.\n",
    "\n",
    "## 1. SpinQ Gemini & Triangulum\n",
    "\n",
    "## 2. Writing Quantum Circuits"
   ]
  },
  {
   "cell_type": "code",
   "execution_count": null,
   "metadata": {},
   "outputs": [],
   "source": []
  }
 ],
 "metadata": {
  "kernelspec": {
   "display_name": "Python 3",
   "language": "python",
   "name": "python3"
  },
  "language_info": {
   "name": "python",
   "version": "3.10.6 (main, Nov 14 2022, 16:10:14) [GCC 11.3.0]"
  },
  "orig_nbformat": 4,
  "vscode": {
   "interpreter": {
    "hash": "916dbcbb3f70747c44a77c7bcd40155683ae19c65e1c03b4aa3499c5328201f1"
   }
  }
 },
 "nbformat": 4,
 "nbformat_minor": 2
}
