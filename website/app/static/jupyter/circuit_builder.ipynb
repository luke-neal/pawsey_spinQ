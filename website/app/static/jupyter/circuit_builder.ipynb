{
 "cells": [
  {
   "attachments": {},
   "cell_type": "markdown",
   "metadata": {},
   "source": [
    "# Using pyQuirk to Create and Submit Quantum Circuits\n",
    "\n",
    "Once you have opened up an interactive session, navigate to the 'quirk.ipynb' file. After you run the first three blocks of code, the pyQuirk app should be loaded:\n",
    "\n",
    "<center><div>\n",
    "<img src=\"../images/quirk.png\" width=\"1000\"/>\n",
    "</div>\n",
    "</center>\n",
    "<br>\n",
    "\n",
    "You can use the app to create quantum circuits of your choosing, though keep in mind that Triangulum is a 3-qubit quantum computer. Once you are happy with your circuit, click the export button and copy the OpenQASM circuit representation:\n",
    "\n",
    "<center>\n",
    "<div>\n",
    "<img src=\"../images/qasm_export.png\" width=\"800\"/>\n",
    "</div>\n",
    "</center>\n",
    "<br>\n",
    "\n",
    "Paste it in the fourth block of code, just underneath the pyQuirk app. Once you have done this, run the block of code and it should generate a 'circuit.qasm' file, which you can navigate to in Binder and download. You can then upload and submit this circuit via the 'Submit a Circuit' section of the website."
   ]
  }
 ],
 "metadata": {
  "kernelspec": {
   "display_name": "Python 3 (ipykernel)",
   "language": "python",
   "name": "python3"
  },
  "orig_nbformat": 4
 },
 "nbformat": 4,
 "nbformat_minor": 2
}
