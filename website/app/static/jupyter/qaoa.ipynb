{
 "cells": [
  {
   "cell_type": "markdown",
   "metadata": {},
   "source": [
    "# Quantum Approximate Optimization Algorithm (QAOA)\n",
    "\n",
    "This notebook provides an overview of the QAOA algorithm, along with how it can be implemented using the SpinQ quantum computing software."
   ]
  },
  {
   "cell_type": "code",
   "execution_count": 2,
   "metadata": {},
   "outputs": [],
   "source": [
    "import networkx as nx\n",
    "import matplotlib.pyplot as plt"
   ]
  },
  {
   "attachments": {},
   "cell_type": "markdown",
   "metadata": {},
   "source": [
    "## 1. The Algorithm\n",
    "\n",
    "The QAOA algorithm is well suited to solving combinatorial optimization problems. These problems involve finding an optimal solution, given a finite set of choices. In the context of quantum computing this can be thought of as finding an optimal bitstring, given the equal superposition as the input. An example of such a problem is the Max-Cut graph problem. \n",
    "\n",
    "### 1.1. Max-Cut Problem\n",
    "\n",
    "In computer science, a graph can be thought of as a set of edges and vertices. Cutting the graph corresponds to splitting the vertices into two distinct sets. The cut can be assigned a value equal to the number of edges between vertices in different sets. The optimal solution (Max-Cut) is the cut which maximises the number of edges between the two sets. For example, running the below code snippet will generate a graph with four vertices and four edges. In this case the Max-Cut is equal to four, which is achieved by cutting the vertices into two equal sized sets."
   ]
  },
  {
   "cell_type": "code",
   "execution_count": 12,
   "metadata": {},
   "outputs": [
    {
     "data": {
      "image/png": "[encoded data removed]",
      "text/plain": [
       "<Figure size 640x480 with 1 Axes>"
      ]
     },
     "metadata": {},
     "output_type": "display_data"
    }
   ],
   "source": [
    "G = nx.Graph()\n",
    "G.add_nodes_from([0,1,2,3])\n",
    "G.add_edges_from([(0,1),(1,2),(2,3),(3,0)])\n",
    "color_map = []\n",
    "for node in G:\n",
    "    if node % 2:\n",
    "        color_map.append('red')\n",
    "    else:\n",
    "        color_map.append('blue')\n",
    "nx.draw(G, node_color=color_map)\n",
    "plt.show()"
   ]
  },
  {
   "attachments": {},
   "cell_type": "markdown",
   "metadata": {},
   "source": [
    "By encoding the two different sets as the different values of the qubit (for example, red = 0 and blue = 1), we can construct a quantum circuit that will return a bitstring representing the Max-Cut solution. In the above example, the solution bitstrings would be either 0101 or 1010."
   ]
  },
  {
   "cell_type": "markdown",
   "metadata": {},
   "source": [
    "## 2. SpinQ Implementation"
   ]
  }
 ],
 "metadata": {
  "kernelspec": {
   "display_name": "Python 3.10.6 64-bit",
   "language": "python",
   "name": "python3"
  },
  "language_info": {
   "codemirror_mode": {
    "name": "ipython",
    "version": 3
   },
   "file_extension": ".py",
   "mimetype": "text/x-python",
   "name": "python",
   "nbconvert_exporter": "python",
   "pygments_lexer": "ipython3",
   "version": "3.10.6 (main, Nov 14 2022, 16:10:14) [GCC 11.3.0]"
  },
  "orig_nbformat": 4,
  "vscode": {
   "interpreter": {
    "hash": "916dbcbb3f70747c44a77c7bcd40155683ae19c65e1c03b4aa3499c5328201f1"
   }
  }
 },
 "nbformat": 4,
 "nbformat_minor": 2
}
