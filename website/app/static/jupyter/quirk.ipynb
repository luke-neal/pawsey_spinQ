{
 "cells": [
  {
   "cell_type": "code",
   "execution_count": 5,
   "metadata": {},
   "outputs": [],
   "source": [
    "from pyQuirk import Quirk\n",
    "from IPython.display import FileLink"
   ]
  },
  {
   "cell_type": "code",
   "execution_count": 2,
   "metadata": {},
   "outputs": [],
   "source": [
    "quirk = Quirk()\n",
    "quirk.width = 1200\n",
    "quirk.height = 800\n",
    "quirk.scale = 1"
   ]
  },
  {
   "cell_type": "code",
   "execution_count": 3,
   "metadata": {},
   "outputs": [
    {
     "data": {
      "application/vnd.jupyter.widget-view+json": {
       "model_id": "fa17c73f1afa4228bb1c70b111bade7d",
       "version_major": 2,
       "version_minor": 0
      },
      "text/plain": [
       "Quirk(height=300, width=800)"
      ]
     },
     "metadata": {},
     "output_type": "display_data"
    }
   ],
   "source": [
    "quirk"
   ]
  },
  {
   "cell_type": "code",
   "execution_count": 4,
   "metadata": {},
   "outputs": [
    {
     "data": {
      "text/html": [
       "<a href='circuit.qasm' target='_blank'>circuit.qasm</a><br>"
      ],
      "text/plain": [
       "/data/Pawsey_SpinQ/website/app/static/jupyter/circuit.qasm"
      ]
     },
     "metadata": {},
     "output_type": "display_data"
    }
   ],
   "source": [
    "# Example Usage:\n",
    "# circuit = 'INSERT OpenQASM Circuit Here'\n",
    "circuit = 'OPENQASM 2.0;include \"qelib1.inc\";qreg q[2];h q[0];cx q[0],q[1];h q[0];'\n",
    "\n",
    "with open(\"circuit.qasm\", \"w\") as file:\n",
    "    file.write(circuit)\n",
    "    file.close()\n",
    "\n",
    "display(FileLink(\"circuit.qasm\"))"
   ]
  }
 ],
 "metadata": {
  "kernelspec": {
   "display_name": "Python 3 (ipykernel)",
   "language": "python",
   "name": "python3"
  }
 },
 "nbformat": 4,
 "nbformat_minor": 4
}
