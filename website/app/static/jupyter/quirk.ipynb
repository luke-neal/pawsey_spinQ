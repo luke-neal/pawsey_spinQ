{
 "cells": [
  {
   "cell_type": "code",
   "execution_count": 36,
   "metadata": {},
   "outputs": [],
   "source": [
    "from pyQuirk import Quirk\n",
    "from IPython.display import FileLink"
   ]
  },
  {
   "cell_type": "code",
   "execution_count": 37,
   "metadata": {},
   "outputs": [],
   "source": [
    "quirk = Quirk()\n",
    "quirk.width = 800\n",
    "quirk.height = 300"
   ]
  },
  {
   "cell_type": "code",
   "execution_count": 35,
   "metadata": {},
   "outputs": [
    {
     "data": {
      "application/vnd.jupyter.widget-view+json": {
       "model_id": "4b48caf429f64a9baf67687fc81a4cda",
       "version_major": 2,
       "version_minor": 0
      },
      "text/plain": [
       "Quirk(height=300, width=800)"
      ]
     },
     "metadata": {},
     "output_type": "display_data"
    }
   ],
   "source": [
    "quirk"
   ]
  },
  {
   "cell_type": "code",
   "execution_count": 38,
   "metadata": {},
   "outputs": [
    {
     "data": {
      "text/html": [
       "<a href='circuit.qasm' target='_blank'>circuit.qasm</a><br>"
      ],
      "text/plain": [
       "/data/Pawsey_SpinQ/website/app/static/jupyter/circuit.qasm"
      ]
     },
     "metadata": {},
     "output_type": "display_data"
    }
   ],
   "source": [
    "circuit = 'OPENQASM 2.0;include \"qelib1.inc\";qreg q[2];h q[0];cx q[0],q[1];h q[0];'\n",
    "\n",
    "with open(\"circuit.qasm\", \"w\") as file:\n",
    "    file.write(circuit)\n",
    "\n",
    "display(FileLink(\"circuit.qasm\"))"
   ]
  }
 ],
 "metadata": {
  "kernelspec": {
   "display_name": "Python 3 (ipykernel)",
   "language": "python",
   "name": "python3"
  },
  "language_info": {
   "codemirror_mode": {
    "name": "ipython",
    "version": 3
   },
   "file_extension": ".py",
   "mimetype": "text/x-python",
   "name": "python",
   "nbconvert_exporter": "python",
   "pygments_lexer": "ipython3",
   "version": "3.10.6"
  }
 },
 "nbformat": 4,
 "nbformat_minor": 4
}
