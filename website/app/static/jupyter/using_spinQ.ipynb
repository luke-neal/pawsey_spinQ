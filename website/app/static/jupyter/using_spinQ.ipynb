{
 "cells": [
  {
   "attachments": {},
   "cell_type": "markdown",
   "metadata": {},
   "source": [
    "# Using the SpinQ Quantum Computers\n",
    "\n",
    "This notebook provides an introduction to the SpinQ Triangulum quantum computer, along with how they can be used to run quantum circuits. It is intended for those who have an understanding of how quantum logic gates work, and would like to create some basic circuits to run on a quantum computer.\n",
    "\n",
    "## 1. SpinQ Triangulum\n",
    "\n",
    "<div>\n",
    "<img src=\"../images/Triangulum.png\"/>\n",
    "</div>\n",
    "\n",
    "Image courtesy of John Tanner. Poster displayed at UWA Physics building.\n",
    "\n",
    "## 2. Writing Quantum Circuits"
   ]
  }
 ],
 "metadata": {
  "kernelspec": {
   "display_name": "Python 3 (ipykernel)",
   "language": "python",
   "name": "python3"
  },
  "orig_nbformat": 4,
  "vscode": {
   "interpreter": {
    "hash": "916dbcbb3f70747c44a77c7bcd40155683ae19c65e1c03b4aa3499c5328201f1"
   }
  }
 },
 "nbformat": 4,
 "nbformat_minor": 2
}
