{
 "cells": [
  {
   "attachments": {},
   "cell_type": "markdown",
   "metadata": {},
   "source": [
    "# Using the SpinQ Quantum Computers\n",
    "\n",
    "This notebook provides an introduction to the SpinQ Triangulum quantum computer, along with how they can be used to run quantum circuits. It is intended for those who have an understanding of how quantum logic gates work, and would like to create some basic circuits to run on a quantum computer.\n",
    "\n",
    "## 1. SpinQ Triangulum\n",
    "\n",
    "## 2. Writing Quantum Circuits"
   ]
  },
  {
   "cell_type": "code",
   "execution_count": 47,
   "metadata": {},
   "outputs": [
    {
     "name": "stdout",
     "output_type": "stream",
     "text": [
      "['010', '110', '111']\n",
      "[0.49999999996195044, 0.24999999998097527, 0.24999999998097527]\n"
     ]
    }
   ],
   "source": [
    "result = {'010': 0.49999999996195044, '110': 0.24999999998097527, '111': 0.24999999998097527}\n",
    "\n",
    "labels=list(result.keys()),\n",
    "labels=labels[0]\n",
    "values=list(result.values())\n",
    "\n",
    "print(labels)\n",
    "print(values)"
   ]
  }
 ],
 "metadata": {
  "kernelspec": {
   "display_name": "Python 3 (ipykernel)",
   "language": "python",
   "name": "python3"
  },
  "language_info": {
   "codemirror_mode": {
    "name": "ipython",
    "version": 3
   },
   "file_extension": ".py",
   "mimetype": "text/x-python",
   "name": "python",
   "nbconvert_exporter": "python",
   "pygments_lexer": "ipython3",
   "version": "3.10.6"
  },
  "orig_nbformat": 4,
  "vscode": {
   "interpreter": {
    "hash": "916dbcbb3f70747c44a77c7bcd40155683ae19c65e1c03b4aa3499c5328201f1"
   }
  }
 },
 "nbformat": 4,
 "nbformat_minor": 2
}
