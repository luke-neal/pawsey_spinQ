{
 "cells": [
  {
   "attachments": {},
   "cell_type": "markdown",
   "metadata": {},
   "source": [
    "# Using the SpinQ Quantum Computers\n",
    "\n",
    "This notebook provides an introduction to the SpinQ Triangulum quantum computer, along with how they can be used to run quantum circuits. It is intended for those who have an understanding of how quantum logic gates work, and would like to create some basic circuits to run on a quantum computer.\n",
    "\n",
    "## 1. SpinQ Triangulum\n",
    "\n",
    "## 2. Writing Quantum Circuits"
   ]
  },
  {
   "cell_type": "code",
   "execution_count": null,
   "metadata": {
    "vscode": {
     "languageId": "python"
    }
   },
   "outputs": [
    {
     "ename": "",
     "evalue": "",
     "output_type": "error",
     "traceback": [
      "\u001b[1;31mFailed to start the Kernel. \n",
      "\u001b[1;31mView Jupyter <a href='command:jupyter.viewOutput'>log</a> for further details."
     ]
    }
   ],
   "source": [
    "qasm_code = 'OPENQASM 2.0;\n",
    "include \"qelib1.inc\";\n",
    "\n",
    "qreg q[3];\n",
    "creg c[3];\n",
    "\n",
    "h q[0];\n",
    "x q[1];\n",
    "measure q[0] -> c[0];\n",
    "if (c==0) u(pi/2,0,pi) q[2];\n",
    "//if (c==0) x q[2];\n",
    "h q[2];'\n",
    "\n",
    "qc = QuantumAssembler(qasm_code).assemble()\n",
    "circuit = qc.draw(output='mpl')"
   ]
  }
 ],
 "metadata": {
  "kernelspec": {
   "display_name": "Python 3 (ipykernel)",
   "language": "python",
   "name": "python3"
  },
  "orig_nbformat": 4,
  "vscode": {
   "interpreter": {
    "hash": "916dbcbb3f70747c44a77c7bcd40155683ae19c65e1c03b4aa3499c5328201f1"
   }
  }
 },
 "nbformat": 4,
 "nbformat_minor": 2
}
